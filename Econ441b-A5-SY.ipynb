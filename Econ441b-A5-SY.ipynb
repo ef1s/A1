{
  "nbformat": 4,
  "nbformat_minor": 0,
  "metadata": {
    "colab": {
      "provenance": [],
      "include_colab_link": true
    },
    "kernelspec": {
      "name": "python3",
      "display_name": "Python 3"
    },
    "language_info": {
      "name": "python"
    }
  },
  "cells": [
    {
      "cell_type": "markdown",
      "metadata": {
        "id": "view-in-github",
        "colab_type": "text"
      },
      "source": [
        "<a href=\"https://colab.research.google.com/github/ef1s/A1-SY/blob/main/%E2%80%9C%E2%80%9CHW5_Template_ipynb%E2%80%9D%E7%9A%84%E5%89%AF%E6%9C%AC_ipynb%E2%80%9D%E7%9A%84%E5%89%AF%E6%9C%AC.ipynb\" target=\"_parent\"><img src=\"https://colab.research.google.com/assets/colab-badge.svg\" alt=\"Open In Colab\"/></a>"
      ]
    },
    {
      "cell_type": "markdown",
      "source": [
        "# 0.) Import the US Perminent Visas using zip extractor"
      ],
      "metadata": {
        "id": "7ywSRtNI4s5h"
      }
    },
    {
      "cell_type": "code",
      "execution_count": 2,
      "metadata": {
        "id": "nsG1QV154GYZ"
      },
      "outputs": [],
      "source": [
        "import pandas as pd\n",
        "from google.colab import drive\n",
        "import matplotlib.pyplot as plt\n",
        "import numpy as np"
      ]
    },
    {
      "cell_type": "code",
      "source": [
        "drive.mount('/content/gdrive/', force_remount = True)"
      ],
      "metadata": {
        "id": "Iku0T8Ou4Lcu",
        "outputId": "c7a13d30-22de-4323-9c34-be1675be6575",
        "colab": {
          "base_uri": "https://localhost:8080/",
          "height": 0
        }
      },
      "execution_count": 3,
      "outputs": [
        {
          "output_type": "stream",
          "name": "stdout",
          "text": [
            "Mounted at /content/gdrive/\n"
          ]
        }
      ]
    },
    {
      "cell_type": "code",
      "source": [
        "import zipfile\n",
        "\n",
        "zf = zipfile.ZipFile(\"/content/gdrive/MyDrive/us_perm_visas.csv.zip\") \n",
        "df = pd.read_csv(zf.open('us_perm_visas.csv'))\n"
      ],
      "metadata": {
        "id": "Q7XmCWs_rULl",
        "colab": {
          "base_uri": "https://localhost:8080/",
          "height": 0
        },
        "outputId": "7c8edd5b-37b4-4150-b2e4-e71ac6c679f6"
      },
      "execution_count": 4,
      "outputs": [
        {
          "output_type": "stream",
          "name": "stderr",
          "text": [
            "/usr/local/lib/python3.8/dist-packages/IPython/core/interactiveshell.py:3326: DtypeWarning: Columns (0,1,2,3,4,5,6,7,10,11,16,17,20,21,22,25,26,27,28,29,30,31,32,33,34,35,36,37,39,40,41,42,43,44,45,47,48,49,50,51,52,53,55,56,57,58,59,60,61,63,64,65,66,68,69,70,71,72,73,74,77,79,80,81,82,83,84,85,86,87,88,89,90,91,92,93,94,95,100,101,103,104,105,106,107,108,109,110,111,112,113,114,115,116,117,118,119,120,121,122,123,124,125,126,127,128,129,130,131,132,133,134,135,136,137,138,139,140,141,142,143,144,145,146,147,148,149,150,153) have mixed types.Specify dtype option on import or set low_memory=False.\n",
            "  exec(code_obj, self.user_global_ns, self.user_ns)\n"
          ]
        }
      ]
    },
    {
      "cell_type": "code",
      "source": [],
      "metadata": {
        "id": "jA7Kj7hGFRKr"
      },
      "execution_count": 5,
      "outputs": []
    },
    {
      "cell_type": "markdown",
      "source": [
        "# 1.) US perm Visas csv from cycle using zip extractor\n"
      ],
      "metadata": {
        "id": "8VsnpGe9-B3p"
      }
    },
    {
      "cell_type": "code",
      "source": [],
      "metadata": {
        "id": "JvCzIdgO983i"
      },
      "execution_count": null,
      "outputs": []
    },
    {
      "cell_type": "code",
      "source": [],
      "metadata": {
        "id": "f7APv9N3986a"
      },
      "execution_count": null,
      "outputs": []
    },
    {
      "cell_type": "markdown",
      "source": [
        "# 2.) Choose 4 features you think are important. Case_status is your target variable\n"
      ],
      "metadata": {
        "id": "lbkpNPyN-Gnk"
      }
    },
    {
      "cell_type": "code",
      "source": [
        "for i in df.columns:\n",
        "  print(i)"
      ],
      "metadata": {
        "id": "cNu6ysyV988v",
        "colab": {
          "base_uri": "https://localhost:8080/",
          "height": 0
        },
        "outputId": "a178ba93-33c4-49e9-f50b-3b516ddda9bc"
      },
      "execution_count": 6,
      "outputs": [
        {
          "output_type": "stream",
          "name": "stdout",
          "text": [
            "add_these_pw_job_title_9089\n",
            "agent_city\n",
            "agent_firm_name\n",
            "agent_state\n",
            "application_type\n",
            "case_no\n",
            "case_number\n",
            "case_received_date\n",
            "case_status\n",
            "class_of_admission\n",
            "country_of_citizenship\n",
            "country_of_citzenship\n",
            "decision_date\n",
            "employer_address_1\n",
            "employer_address_2\n",
            "employer_city\n",
            "employer_country\n",
            "employer_decl_info_title\n",
            "employer_name\n",
            "employer_num_employees\n",
            "employer_phone\n",
            "employer_phone_ext\n",
            "employer_postal_code\n",
            "employer_state\n",
            "employer_yr_estab\n",
            "foreign_worker_info_alt_edu_experience\n",
            "foreign_worker_info_birth_country\n",
            "foreign_worker_info_city\n",
            "foreign_worker_info_education\n",
            "foreign_worker_info_education_other\n",
            "foreign_worker_info_inst\n",
            "foreign_worker_info_major\n",
            "foreign_worker_info_postal_code\n",
            "foreign_worker_info_rel_occup_exp\n",
            "foreign_worker_info_req_experience\n",
            "foreign_worker_info_state\n",
            "foreign_worker_info_training_comp\n",
            "foreign_worker_ownership_interest\n",
            "foreign_worker_yr_rel_edu_completed\n",
            "fw_info_alt_edu_experience\n",
            "fw_info_birth_country\n",
            "fw_info_education_other\n",
            "fw_info_postal_code\n",
            "fw_info_rel_occup_exp\n",
            "fw_info_req_experience\n",
            "fw_info_training_comp\n",
            "fw_info_yr_rel_edu_completed\n",
            "fw_ownership_interest\n",
            "ji_foreign_worker_live_on_premises\n",
            "ji_fw_live_on_premises\n",
            "ji_live_in_dom_svc_contract\n",
            "ji_live_in_domestic_service\n",
            "ji_offered_to_sec_j_foreign_worker\n",
            "ji_offered_to_sec_j_fw\n",
            "job_info_alt_cmb_ed_oth_yrs\n",
            "job_info_alt_combo_ed\n",
            "job_info_alt_combo_ed_exp\n",
            "job_info_alt_combo_ed_other\n",
            "job_info_alt_field\n",
            "job_info_alt_field_name\n",
            "job_info_alt_occ\n",
            "job_info_alt_occ_job_title\n",
            "job_info_alt_occ_num_months\n",
            "job_info_combo_occupation\n",
            "job_info_education\n",
            "job_info_education_other\n",
            "job_info_experience\n",
            "job_info_experience_num_months\n",
            "job_info_foreign_ed\n",
            "job_info_foreign_lang_req\n",
            "job_info_job_req_normal\n",
            "job_info_job_title\n",
            "job_info_major\n",
            "job_info_training\n",
            "job_info_training_field\n",
            "job_info_training_num_months\n",
            "job_info_work_city\n",
            "job_info_work_postal_code\n",
            "job_info_work_state\n",
            "naics_2007_us_code\n",
            "naics_2007_us_title\n",
            "naics_code\n",
            "naics_title\n",
            "naics_us_code\n",
            "naics_us_code_2007\n",
            "naics_us_title\n",
            "naics_us_title_2007\n",
            "orig_case_no\n",
            "orig_file_date\n",
            "preparer_info_emp_completed\n",
            "preparer_info_title\n",
            "pw_amount_9089\n",
            "pw_determ_date\n",
            "pw_expire_date\n",
            "pw_job_title_908\n",
            "pw_job_title_9089\n",
            "pw_level_9089\n",
            "pw_soc_code\n",
            "pw_soc_title\n",
            "pw_source_name_9089\n",
            "pw_source_name_other_9089\n",
            "pw_track_num\n",
            "pw_unit_of_pay_9089\n",
            "rec_info_barg_rep_notified\n",
            "recr_info_barg_rep_notified\n",
            "recr_info_coll_teach_comp_proc\n",
            "recr_info_coll_univ_teacher\n",
            "recr_info_employer_rec_payment\n",
            "recr_info_first_ad_start\n",
            "recr_info_job_fair_from\n",
            "recr_info_job_fair_to\n",
            "recr_info_on_campus_recr_from\n",
            "recr_info_on_campus_recr_to\n",
            "recr_info_pro_org_advert_from\n",
            "recr_info_pro_org_advert_to\n",
            "recr_info_prof_org_advert_from\n",
            "recr_info_prof_org_advert_to\n",
            "recr_info_professional_occ\n",
            "recr_info_radio_tv_ad_from\n",
            "recr_info_radio_tv_ad_to\n",
            "recr_info_second_ad_start\n",
            "recr_info_sunday_newspaper\n",
            "recr_info_swa_job_order_end\n",
            "recr_info_swa_job_order_start\n",
            "refile\n",
            "ri_1st_ad_newspaper_name\n",
            "ri_2nd_ad_newspaper_name\n",
            "ri_2nd_ad_newspaper_or_journal\n",
            "ri_campus_placement_from\n",
            "ri_campus_placement_to\n",
            "ri_coll_tch_basic_process\n",
            "ri_coll_teach_pro_jnl\n",
            "ri_coll_teach_select_date\n",
            "ri_employee_referral_prog_from\n",
            "ri_employee_referral_prog_to\n",
            "ri_employer_web_post_from\n",
            "ri_employer_web_post_to\n",
            "ri_job_search_website_from\n",
            "ri_job_search_website_to\n",
            "ri_layoff_in_past_six_months\n",
            "ri_local_ethnic_paper_from\n",
            "ri_local_ethnic_paper_to\n",
            "ri_posted_notice_at_worksite\n",
            "ri_pvt_employment_firm_from\n",
            "ri_pvt_employment_firm_to\n",
            "ri_us_workers_considered\n",
            "schd_a_sheepherder\n",
            "us_economic_sector\n",
            "wage_offer_from_9089\n",
            "wage_offer_to_9089\n",
            "wage_offer_unit_of_pay_9089\n",
            "wage_offered_from_9089\n",
            "wage_offered_to_9089\n",
            "wage_offered_unit_of_pay_9089\n"
          ]
        }
      ]
    },
    {
      "cell_type": "code",
      "source": [
        "df_select = df[['class_of_admission','case_status','us_economic_sector',\n",
        "                'foreign_worker_info_alt_edu_experience',\n",
        "                'foreign_worker_info_state']]\n"
      ],
      "metadata": {
        "id": "4GvhU8UN99DR"
      },
      "execution_count": 128,
      "outputs": []
    },
    {
      "cell_type": "code",
      "source": [],
      "metadata": {
        "id": "D7n_cImg99F3"
      },
      "execution_count": null,
      "outputs": []
    },
    {
      "cell_type": "markdown",
      "source": [
        "# 3.) Clean your data for a decision tree\n"
      ],
      "metadata": {
        "id": "bIJx2jvD-KEI"
      }
    },
    {
      "cell_type": "code",
      "source": [
        "df_select_class = pd.get_dummies(df_select, 'class_of_admission')\n",
        "df_select_econ = pd.get_dummies(df_select, 'us_economic_sector')\n",
        "df_select_fw_alt_edu = pd.get_dummies(df_select, 'foreign_worker_info_alt_edu_experience')\n",
        "df_select_fw_state = pd.get_dummies(df_select, 'foreign_worker_info_state')\n",
        "x = pd.concat([df_select_class, df_select_econ, df_select_fw_alt_edu, df_select_fw_state], axis=1)\n",
        "y = df_select['case_status']\n"
      ],
      "metadata": {
        "id": "AwXa-bvX99Id"
      },
      "execution_count": 120,
      "outputs": []
    },
    {
      "cell_type": "markdown",
      "source": [
        "# 4.) Fit and plot a decision tree of depth 3\n"
      ],
      "metadata": {
        "id": "PeurmqI4-OoC"
      }
    },
    {
      "cell_type": "code",
      "source": [
        "from sklearn import tree\n",
        "clf = tree.DecisionTreeClassifier(max_depth=3)\n",
        "clf.fit(x,y)\n",
        "plt.figure(figsize=(15,5))\n",
        "tree.plot_tree(clf,max_depth=3,rounded=True,feature_names=x.columns)\n",
        "plt.show()"
      ],
      "metadata": {
        "colab": {
          "base_uri": "https://localhost:8080/",
          "height": 303
        },
        "id": "soxFF1UMDQOm",
        "outputId": "7ce4d57a-a6f2-4c3a-949d-899caac20d23"
      },
      "execution_count": 121,
      "outputs": [
        {
          "output_type": "display_data",
          "data": {
            "text/plain": [
              "<Figure size 1080x360 with 1 Axes>"
            ],
            "image/png": "[encoded data removed]"
          },
          "metadata": {
            "needs_background": "light"
          }
        }
      ]
    },
    {
      "cell_type": "markdown",
      "source": [
        "# 5.) Write your interpretation of the largest (by sample size) leaf node\n"
      ],
      "metadata": {
        "id": "6isBwtmL-R4p"
      }
    },
    {
      "cell_type": "markdown",
      "source": [
        "If they are not certified, the model will stop to do prediction on them. The samples larger than the 0.5 that pass the threshold will count into certified-expired and do further prediction and repeat the process until third depth. Thus, the sample size of class of admission that is withdrawn is the largest leaf node and is 25649"
      ],
      "metadata": {
        "id": "L5ZE0lg2JKeU"
      }
    },
    {
      "cell_type": "markdown",
      "source": [
        "# 6.) Using a for loop, make your own train-test split and determine the best max_depth for out-of sample accuracy"
      ],
      "metadata": {
        "id": "aQa3sanl-XUk"
      }
    },
    {
      "cell_type": "code",
      "source": [
        "from sklearn import preprocessing\n",
        "y.dropna()\n",
        "le = preprocessing.LabelEncoder()\n",
        "le.fit(y)\n",
        "preprocessing.LabelEncoder\n",
        "y = le.transform(y)\n",
        "y = y.reshape(-1,1)"
      ],
      "metadata": {
        "id": "AHsQ_ZWo8xOj"
      },
      "execution_count": 122,
      "outputs": []
    },
    {
      "cell_type": "code",
      "source": [
        "le = preprocessing.LabelEncoder()\n",
        "le.fit(df_select.class_of_admission)\n",
        "preprocessing.LabelEncoder\n",
        "x = le.transform(df_select.class_of_admission)\n",
        "x = x.reshape(-1,1)"
      ],
      "metadata": {
        "id": "zOuThNVs_65a"
      },
      "execution_count": 123,
      "outputs": []
    },
    {
      "cell_type": "code",
      "source": [
        "from sklearn.model_selection import train_test_split\n",
        "from sklearn.metrics import accuracy_score\n",
        "\n",
        "\n",
        "outputs = []\n",
        "max_depths = [1,2,3]\n",
        "X_train, X_test, y_train, y_test= train_test_split(x,y,test_size=0.25,random_state=0)\n",
        "for md in max_depths:\n",
        "  clf = tree.DecisionTreeClassifier(max_depth=md)\n",
        "  clf.fit(X_train,y_train)\n",
        "  y_pred = clf.predict(y_test)\n",
        "  accuracy = accuracy_score(y_test,y_pred)\n",
        "  outputs.append(accuracy)\n",
        "best_depth = np.argmax(outputs) + 1\n",
        "print('The best max_depth is:',best_depth)"
      ],
      "metadata": {
        "id": "Q_-PzuQa7Vzz",
        "colab": {
          "base_uri": "https://localhost:8080/",
          "height": 0
        },
        "outputId": "420d4bfe-8a51-487f-f39e-c588e9a15d6b"
      },
      "execution_count": 126,
      "outputs": [
        {
          "output_type": "stream",
          "name": "stdout",
          "text": [
            "The best max_depth is: 1\n"
          ]
        }
      ]
    },
    {
      "cell_type": "code",
      "source": [],
      "metadata": {
        "id": "lmVhRi3DNrky"
      },
      "execution_count": null,
      "outputs": []
    }
  ]
}
